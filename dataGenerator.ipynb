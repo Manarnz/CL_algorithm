{
  "cells": [
    {
      "cell_type": "markdown",
      "metadata": {
        "id": "view-in-github",
        "colab_type": "text"
      },
      "source": [
        "<a href=\"https://colab.research.google.com/github/Manarnz/CL_algorithm/blob/main/dataGenerator.ipynb\" target=\"_parent\"><img src=\"https://colab.research.google.com/assets/colab-badge.svg\" alt=\"Open In Colab\"/></a>"
      ]
    },
    {
      "cell_type": "code",
      "source": [
        "import imageio\n",
        "import numpy as np\n",
        "import matplotlib.pyplot as plt\n",
        "from scipy import ndimage"
      ],
      "metadata": {
        "id": "kUpcEtQoLN8a"
      },
      "id": "kUpcEtQoLN8a",
      "execution_count": null,
      "outputs": []
    },
    {
      "cell_type": "code",
      "execution_count": null,
      "id": "8245ba0e",
      "metadata": {
        "id": "8245ba0e"
      },
      "outputs": [],
      "source": [
        "\"\"\"Code by Elisa Negrini for Threshold Dynamics\"\"\"\n",
        "def generate_dumbbell_indicator(x, y, width, height, circle_radius, center_x, center_y, spacing):\n",
        "    \"\"\"\n",
        "    Generates the indicator function of a dumbbell shape.\n",
        "\n",
        "    Args:\n",
        "        x (float): x-coordinate of the point.\n",
        "        y (float): y-coordinate of the point.\n",
        "        width (float): width of the dumbbell.\n",
        "        height (float): height of the dumbbell.\n",
        "        circle_radius (float): radius of the circles.\n",
        "        center_x (float): x-coordinate of the center of the dumbbell.\n",
        "        center_y (float): y-coordinate of the center of the dumbbell.\n",
        "        spacing (float): spacing between the circles and the rectangle.\n",
        "\n",
        "    Returns:\n",
        "        int: 1 if the point (x, y) is inside the dumbbell, 0 otherwise.\n",
        "    \"\"\"\n",
        "    dist_to_center = np.sqrt((x - center_x) ** 2 + (y - center_y) ** 2)\n",
        "    dist_to_top_circle = np.sqrt((x - center_x) ** 2 + (y - center_y + (height / 2 - circle_radius - spacing)) ** 2)\n",
        "    dist_to_bottom_circle = np.sqrt((x - center_x) ** 2 + (y - center_y - (height / 2 - circle_radius - spacing)) ** 2)\n",
        "\n",
        "    if (\n",
        "        (np.abs(x - center_x) <= width / 2 and np.abs(y - center_y) <= height / 2) or\n",
        "        (dist_to_top_circle <= circle_radius) or\n",
        "        (dist_to_bottom_circle <= circle_radius)\n",
        "    ):\n",
        "        return 1\n",
        "    else:\n",
        "        return 0\n",
        "\n",
        "def generate_dumbbell_img(width, height, circle_radius, center_x, center_y, spacing, resolution=100):\n",
        "    \"\"\"\n",
        "    Plots the indicator function of a dumbbell shape as an image.\n",
        "\n",
        "    Args:\n",
        "        width (float): width of the dumbbell.\n",
        "        height (float): height of the dumbbell.\n",
        "        circle_radius (float): radius of the circles.\n",
        "        center_x (float): x-coordinate of the center of the dumbbell.\n",
        "        center_y (float): y-coordinate of the center of the dumbbell.\n",
        "        spacing (float): spacing between the circles and the rectangle.\n",
        "        resolution (int): number of points along each axis to generate the image.\n",
        "                          Higher values result in a smoother image. (default: 100)\n",
        "    \"\"\"\n",
        "    x = np.linspace(center_x - width / 2 - circle_radius - spacing, center_x + width / 2 + circle_radius + spacing, resolution)\n",
        "    y = np.linspace(center_y - height / 2 - circle_radius - spacing, center_y + height / 2 + circle_radius + spacing, resolution)\n",
        "    X, Y = np.meshgrid(x, y)\n",
        "\n",
        "    Z = np.zeros_like(X, dtype=int)\n",
        "    for i in range(resolution):\n",
        "        for j in range(resolution):\n",
        "            Z[i, j] = generate_dumbbell_indicator(X[i, j], Y[i, j], width, height, circle_radius, center_x, center_y, spacing)\n",
        "\n",
        "    return Z\n",
        "\n"
      ]
    },
    {
      "cell_type": "code",
      "execution_count": null,
      "id": "d6d47538",
      "metadata": {
        "id": "d6d47538"
      },
      "outputs": [],
      "source": [
        "def generate_circle_indicator(x, y, radius, center_x, center_y):\n",
        "    \"\"\"\n",
        "    Generates the indicator function of a circle shape.\n",
        "\n",
        "    Args:\n",
        "        x (float): x-coordinate of the point.\n",
        "        y (float): y-coordinate of the point.\n",
        "        radius (float): radius of the circle.\n",
        "        center_x (float): x-coordinate of the center of the circle.\n",
        "        center_y (float): y-coordinate of the center of the circle.\n",
        "\n",
        "    Returns:\n",
        "        int: 1 if the point (x, y) is inside the circle, 0 otherwise.\n",
        "    \"\"\"\n",
        "    dist_to_center = np.sqrt((x - center_x) ** 2 + (y - center_y) ** 2)\n",
        "\n",
        "    if dist_to_center <= radius:\n",
        "        return 1\n",
        "    else:\n",
        "        return 0\n",
        "\n",
        "\n",
        "def generate_circle_img(radius, center_x, center_y, resolution=100):\n",
        "    \"\"\"\n",
        "    Plots the indicator function of a circle shape as an image.\n",
        "\n",
        "    Args:\n",
        "        radius (float): radius of the circle.\n",
        "        center_x (float): x-coordinate of the center of the circle.\n",
        "        center_y (float): y-coordinate of the center of the circle.\n",
        "        resolution (int): number of points along each axis to generate the image.\n",
        "                          Higher values result in a smoother image. (default: 100)\n",
        "    \"\"\"\n",
        "    x = np.linspace(-10, 10, resolution)\n",
        "    y = np.linspace(-10, 10, resolution)\n",
        "    X, Y = np.meshgrid(x, y)\n",
        "    print(X.shape)\n",
        "\n",
        "    Z = np.zeros_like(X, dtype=int)\n",
        "    for i in range(resolution):\n",
        "        for j in range(resolution):\n",
        "            Z[i, j] = generate_circle_indicator(X[i, j], Y[i, j], radius, center_x, center_y)\n",
        "    return Z\n"
      ]
    },
    {
      "cell_type": "code",
      "execution_count": null,
      "id": "1267e4a1",
      "metadata": {
        "id": "1267e4a1"
      },
      "outputs": [],
      "source": [
        "def convolve_with_gaussian(Z, kernel_dim, mean, std):\n",
        "    \"\"\"\n",
        "    Convolves the input image with a Gaussian kernel of given dimension and properties.\n",
        "\n",
        "    Args:\n",
        "        Z (ndarray): Input image.\n",
        "        kernel_dim (int): Dimension of the square Gaussian kernel.\n",
        "        mean (float): Mean of the Gaussian kernel.\n",
        "        std (float): Standard deviation of the Gaussian kernel.\n",
        "\n",
        "    Returns:\n",
        "        ndarray: Convolved image.\n",
        "    \"\"\"\n",
        "    kernel = np.exp(-((np.arange(kernel_dim) - kernel_dim // 2) ** 2) / (2 * std ** 2))\n",
        "    kernel /= np.sum(kernel)\n",
        "    convolved_image = ndimage.convolve(Z, kernel[np.newaxis, :] * kernel[:, np.newaxis], mode='reflect')\n",
        "\n",
        "    return convolved_image\n",
        "\n",
        "def convolve_with_kernel(Z, kernel):\n",
        "    \"\"\"\n",
        "    Convolves the input image with a given kernel.\n",
        "\n",
        "    Args:\n",
        "        Z (ndarray): Input image.\n",
        "        kernel (ndarray): Convolution kernel.\n",
        "\n",
        "    Returns:\n",
        "        ndarray: Convolved image.\n",
        "    \"\"\"\n",
        "    convolved_image = ndimage.convolve(Z, kernel, mode='reflect')\n",
        "\n",
        "    return convolved_image"
      ]
    },
    {
      "cell_type": "code",
      "execution_count": null,
      "id": "df5f30d4",
      "metadata": {
        "id": "df5f30d4"
      },
      "outputs": [],
      "source": [
        "def threshold_image(image, threshold):\n",
        "    \"\"\"\n",
        "    Sets all elements in the image less than the given threshold to zero.\n",
        "\n",
        "    Args:\n",
        "        image (ndarray): Input image.\n",
        "        threshold (float): Threshold value.\n",
        "\n",
        "    Returns:\n",
        "        ndarray: Thresholded image.\n",
        "    \"\"\"\n",
        "    thresholded_image = np.where(image < threshold, 0, image)\n",
        "    thresholded_image = np.where(thresholded_image > threshold, 1, thresholded_image)\n",
        "    return thresholded_image"
      ]
    },
    {
      "cell_type": "code",
      "execution_count": null,
      "id": "96d2ba92",
      "metadata": {
        "id": "96d2ba92"
      },
      "outputs": [],
      "source": [
        "# Convolution parameters\n",
        "kernel_dim = 20 # Dimension of the square Gaussian kernel\n",
        "mean = 80  # Mean of the Gaussian kernel\n",
        "std =5.0  # Standard deviation of the Gaussian kernel\n",
        "kernel_box_blur = np.ones((3, 3))\n",
        "\n",
        "#Threshold\n",
        "threshold=0.3\n",
        "\n",
        "def create_elliptical_kernel(radius_x, radius_y):\n",
        "    \"\"\"\n",
        "    Creates an elliptical kernel with given X and Y radii.\n",
        "\n",
        "    Args:\n",
        "        radius_x (int): X radius of the ellipse.\n",
        "        radius_y (int): Y radius of the ellipse.\n",
        "\n",
        "    Returns:\n",
        "        ndarray: Elliptical kernel.\n",
        "    \"\"\"\n",
        "    kernel = np.zeros((radius_y * 2 + 1, radius_x * 2 + 1))\n",
        "    center_x = radius_x\n",
        "    center_y = radius_y\n",
        "\n",
        "    for i in range(radius_y * 2 + 1):\n",
        "        for j in range(radius_x * 2 + 1):\n",
        "            if ((j - center_x) / radius_x) ** 2 + ((i - center_y) / radius_y) ** 2 <= 1:\n",
        "                kernel[i, j] = 1\n",
        "\n",
        "    return kernel\n",
        "\n",
        "kernel_rand =2  * np.random.rand(6, 6)"
      ]
    },
    {
      "cell_type": "code",
      "execution_count": 68,
      "id": "a92bc164",
      "metadata": {
        "colab": {
          "base_uri": "https://localhost:8080/",
          "height": 451
        },
        "id": "a92bc164",
        "outputId": "6765b0ad-f365-4a36-c13b-b17a79052fd5"
      },
      "outputs": [
        {
          "output_type": "stream",
          "name": "stdout",
          "text": [
            "(200, 200)\n"
          ]
        },
        {
          "output_type": "display_data",
          "data": {
            "text/plain": [
              "<Figure size 640x480 with 1 Axes>"
            ],
            "image/png": "[encoded data removed]"
          },
          "metadata": {}
        }
      ],
      "source": [
        "# Generate the indicator function of the circle\n",
        "# Z = generate_dumbbell_img(width=1.0, height=2.0, circle_radius=1, center_x=0.0, center_y=4.0, spacing=1.5, resolution=200)\n",
        "\n",
        "print(Z.shape)\n",
        "plt.figure()\n",
        "plt.imshow(Z)\n",
        "# generate_dumbbell_img(width=1.0, height=2.0, circle_radius=1, center_x=0.0, center_y=4.0, spacing=1.5, resolution=200)\n",
        "\n",
        "\n",
        "\n",
        "# Create a list of images\n",
        "def convolution_frames(lapses, threshold, kernel_dim, mean, std):\n",
        "  Z = generate_circle_img(radius=6, center_x=0., center_y=0.0, resolution=200)\n",
        "  images = []\n",
        "  for i in range(lapses):\n",
        "    # Apply convolution to the indicator function\n",
        "    images.append(Z)\n",
        "    # Convolve the image with a Gaussian kernel\n",
        "    convolved_Z = convolve_with_gaussian(Z.astype(float), kernel_dim, mean, std)\n",
        "    # Threshold the convolved image\n",
        "    thresholded_image = threshold_image(convolved_Z, threshold)\n",
        "    # Update the image for the next iteration\n",
        "    Z = thresholded_image\n",
        "    filename = f\"image_{i}.png\"\n",
        "    plt.figure()\n",
        "    plt.imshow(images[i])\n",
        "    plt.savefig(filename)\n",
        "    plt.close()\n",
        "  return images"
      ]
    },
    {
      "cell_type": "code",
      "execution_count": 66,
      "id": "366c8368",
      "metadata": {
        "id": "366c8368"
      },
      "outputs": [],
      "source": [
        "def animation(images):\n",
        "  frames = []\n",
        "  for t in range(len(images)):\n",
        "      image = imageio.v2.imread(f'image_{t}.png')\n",
        "      frames.append(image)\n",
        "  return frames"
      ]
    },
    {
      "cell_type": "code",
      "execution_count": 69,
      "id": "b6b47f70",
      "metadata": {
        "colab": {
          "base_uri": "https://localhost:8080/"
        },
        "id": "b6b47f70",
        "outputId": "4005cb6d-705b-4f54-b444-f0f8b72aec0d"
      },
      "outputs": [
        {
          "output_type": "stream",
          "name": "stdout",
          "text": [
            "(200, 200)\n"
          ]
        }
      ],
      "source": [
        "images = convolution_frames(40, 0.5, kernel_dim, mean, std)\n",
        "frames = animation(images)\n",
        "imageio.mimsave('./circle.gif', frames, duration = 50)"
      ]
    }
  ],
  "metadata": {
    "kernelspec": {
      "display_name": "Python 3 (ipykernel)",
      "language": "python",
      "name": "python3"
    },
    "language_info": {
      "codemirror_mode": {
        "name": "ipython",
        "version": 3
      },
      "file_extension": ".py",
      "mimetype": "text/x-python",
      "name": "python",
      "nbconvert_exporter": "python",
      "pygments_lexer": "ipython3",
      "version": "3.8.13"
    },
    "colab": {
      "provenance": [],
      "include_colab_link": true
    }
  },
  "nbformat": 4,
  "nbformat_minor": 5
}